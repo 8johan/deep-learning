{
  "nbformat": 4,
  "nbformat_minor": 0,
  "metadata": {
    "colab": {
      "provenance": [],
      "gpuType": "T4",
      "authorship_tag": "ABX9TyMRNu4ZxttLeXupcC6ygf+y",
      "include_colab_link": true
    },
    "kernelspec": {
      "name": "python3",
      "display_name": "Python 3"
    },
    "language_info": {
      "name": "python"
    },
    "accelerator": "GPU"
  },
  "cells": [
    {
      "cell_type": "markdown",
      "metadata": {
        "id": "view-in-github",
        "colab_type": "text"
      },
      "source": [
        "<a href=\"https://colab.research.google.com/github/yasinelehmiani/deep-learning/blob/main/landmarkTest.ipynb\" target=\"_parent\"><img src=\"https://colab.research.google.com/assets/colab-badge.svg\" alt=\"Open In Colab\"/></a>"
      ]
    },
    {
      "cell_type": "code",
      "execution_count": 2,
      "metadata": {
        "colab": {
          "base_uri": "https://localhost:8080/"
        },
        "id": "vqMafhBramKe",
        "outputId": "1c3e0afb-babd-49d2-c9ef-5dd40a5a4094"
      },
      "outputs": [
        {
          "output_type": "stream",
          "name": "stdout",
          "text": [
            "100 blank images have been created and saved in the 'blank_images' directory.\n"
          ]
        }
      ],
      "source": [
        "import os\n",
        "import cv2\n",
        "import numpy as np\n",
        "\n",
        "# Define parameters for the dataset\n",
        "output_dir = \"blank_images\"  # Directory to save the images\n",
        "num_images = 100  # Number of blank images to create\n",
        "image_width = 512 # Width of the blank images in pixels\n",
        "image_height = 512  # Height of the blank images in pixels\n",
        "background_color = (255, 255, 255)  # RGB color for the blank background (white)\n",
        "\n",
        "# Create the output directory if it doesn't exist\n",
        "os.makedirs(output_dir, exist_ok=True)\n",
        "\n",
        "# Generate and save blank images\n",
        "for i in range(num_images):\n",
        "    # Create a blank image filled with the specified background color\n",
        "    blank_image = np.full((image_height, image_width, 3), background_color, dtype=np.uint8)\n",
        "\n",
        "    # Save the blank image to the output directory with a unique filename\n",
        "    image_filename = os.path.join(output_dir, f\"blank_image_{i}.png\")\n",
        "    cv2.imwrite(image_filename, blank_image)\n",
        "\n",
        "print(f\"{num_images} blank images have been created and saved in the '{output_dir}' directory.\")\n"
      ]
    },
    {
      "cell_type": "code",
      "source": [
        "import os\n",
        "import cv2\n",
        "import numpy as np\n",
        "\n",
        "# Define parameters for the dataset\n",
        "output_dir = \"images_with_squares\"  # Directory to save the images\n",
        "num_images = 100  # Number of images to create\n",
        "image_width = 128  # Width of the images in pixels\n",
        "image_height = 128  # Height of the images in pixels\n",
        "background_color = (255, 255, 255)  # RGB color for the blank background (white)\n",
        "square_color1 = (0, 0, 255)  # RGB color for the first square (red)\n",
        "square_color2 = (0, 255, 0)  # RGB color for the second square (green)\n",
        "\n",
        "# Create the output directory if it doesn't exist\n",
        "os.makedirs(output_dir, exist_ok=True)\n",
        "\n",
        "# Generate and save images with two squares\n",
        "for i in range(num_images):\n",
        "    # Create a blank image filled with the specified background color\n",
        "    blank_image = np.full((image_height, image_width, 3), background_color, dtype=np.uint8)\n",
        "\n",
        "    # Define the positions and sizes of the two squares\n",
        "    square1_x, square1_y, square1_size = 30, 30, 40\n",
        "    square2_x, square2_y, square2_size = 80, 60, 25\n",
        "\n",
        "    # Draw the squares on the blank image\n",
        "    cv2.rectangle(blank_image, (square1_x, square1_y), (square1_x + square1_size, square1_y + square1_size), square_color1, -1)\n",
        "    cv2.rectangle(blank_image, (square2_x, square2_y), (square2_x + square2_size, square2_y + square2_size), square_color2, -1)\n",
        "\n",
        "    # Save the image to the output directory with a unique filename\n",
        "    image_filename = os.path.join(output_dir, f\"image_with_squares_{i}.png\")\n",
        "    cv2.imwrite(image_filename, blank_image)\n",
        "\n",
        "print(f\"{num_images} images with squares have been created and saved in the '{output_dir}' directory.\")\n"
      ],
      "metadata": {
        "colab": {
          "base_uri": "https://localhost:8080/"
        },
        "id": "M2vus5CMenEh",
        "outputId": "39dacb2d-9eda-4075-ccf8-70cea2e1aa9e"
      },
      "execution_count": 3,
      "outputs": [
        {
          "output_type": "stream",
          "name": "stdout",
          "text": [
            "100 images with squares have been created and saved in the 'images_with_squares' directory.\n"
          ]
        }
      ]
    },
    {
      "cell_type": "code",
      "source": [
        "import os\n",
        "import cv2\n",
        "import numpy as np\n",
        "import random\n",
        "\n",
        "# Define parameters for the dataset\n",
        "output_dir = \"images_with_landmarks\"  # Directory to save the images\n",
        "num_images = 100  # Number of images to create\n",
        "image_width = 512  # Width of the images in pixels\n",
        "image_height = 512  # Height of the images in pixels\n",
        "background_color = (255, 255, 255)  # RGB color for the blank background (white)\n",
        "square_color1 = (0, 0, 255)  # RGB color for the first square (red)\n",
        "square_color2 = (0, 255, 0)  # RGB color for the second square (green)\n",
        "min_square_size = 50\n",
        "max_square_size = 70\n",
        "\n",
        "# Create the output directory if it doesn't exist\n",
        "os.makedirs(output_dir, exist_ok=True)\n",
        "\n",
        "# Generate and save images with squares and their corresponding landmarks\n",
        "for i in range(num_images):\n",
        "    # Create a blank image filled with the specified background color\n",
        "    blank_image = np.full((image_height, image_width, 3), background_color, dtype=np.uint8)\n",
        "\n",
        "    # Generate random positions and sizes for the squares\n",
        "    square1_x = random.randint(0, image_width - max_square_size)\n",
        "    square1_y = random.randint(0, image_height - max_square_size)\n",
        "    square1_size = random.randint(min_square_size, max_square_size)\n",
        "\n",
        "    square2_x = random.randint(0, image_width - max_square_size)\n",
        "    square2_y = random.randint(0, image_height - max_square_size)\n",
        "    square2_size = random.randint(min_square_size, max_square_size)\n",
        "\n",
        "    # Draw the squares on the blank image\n",
        "    cv2.rectangle(blank_image, (square1_x, square1_y), (square1_x + square1_size, square1_y + square1_size), square_color1, -1)\n",
        "    cv2.rectangle(blank_image, (square2_x, square2_y), (square2_x + square2_size, square2_y + square2_size), square_color2, -1)\n",
        "\n",
        "    # Save the image to the output directory with a unique filename\n",
        "    image_filename = os.path.join(output_dir, f\"image_with_landmarks_{i}.png\")\n",
        "    cv2.imwrite(image_filename, blank_image)\n",
        "\n",
        "    # Save the landmarks for the squares\n",
        "    landmark_filename = os.path.join(output_dir, f\"landmarks_{i}.txt\")\n",
        "    with open(landmark_filename, 'w') as landmark_file:\n",
        "        landmark_file.write(f\"{square1_x},{square1_y}\\n{square2_x},{square2_y}\")\n",
        "\n",
        "print(f\"{num_images} images with squares and corresponding landmarks have been created and saved in the '{output_dir}' directory.\")\n"
      ],
      "metadata": {
        "colab": {
          "base_uri": "https://localhost:8080/"
        },
        "id": "RzMg3LiRs5ui",
        "outputId": "e4f71c8d-a289-460e-edee-10a193e5be78"
      },
      "execution_count": 18,
      "outputs": [
        {
          "output_type": "stream",
          "name": "stdout",
          "text": [
            "100 images with squares and corresponding landmarks have been created and saved in the 'images_with_landmarks' directory.\n"
          ]
        }
      ]
    },
    {
      "cell_type": "code",
      "source": [
        "import os\n",
        "import cv2\n",
        "import numpy as np\n",
        "import random\n",
        "import scipy.stats\n",
        "\n",
        "# Define parameters for the dataset\n",
        "output_dir = \"images_with_landmark_heatmaps\"  # Directory to save the images and heatmaps\n",
        "num_images = 100  # Number of images to create\n",
        "image_width = 128  # Width of the images in pixels\n",
        "image_height = 128  # Height of the images in pixels\n",
        "background_color = (255, 255, 255)  # RGB color for the blank background (white)\n",
        "square_color1 = (0, 0, 255)  # RGB color for the first square (red)\n",
        "square_color2 = (0, 255, 0)  # RGB color for the second square (green)\n",
        "min_square_size = 10\n",
        "max_square_size = 30\n",
        "landmark_radius = 5  # Radius of the heatmap for each landmark\n",
        "\n",
        "# Create the output directory if it doesn't exist\n",
        "os.makedirs(output_dir, exist_ok=True)\n",
        "\n",
        "# Generate and save images with squares and heatmap labels for landmarks\n",
        "for i in range(num_images):\n",
        "    # Create a blank image filled with the specified background color\n",
        "    blank_image = np.full((image_height, image_width, 3), background_color, dtype=np.uint8)\n",
        "\n",
        "    # Generate random positions and sizes for the squares\n",
        "    square1_x = random.randint(0, image_width - max_square_size)\n",
        "    square1_y = random.randint(0, image_height - max_square_size)\n",
        "    square1_size = random.randint(min_square_size, max_square_size)\n",
        "\n",
        "    square2_x = random.randint(0, image_width - max_square_size)\n",
        "    square2_y = random.randint(0, image_height - max_square_size)\n",
        "    square2_size = random.randint(min_square_size, max_square_size)\n",
        "\n",
        "    # Draw the squares on the blank image\n",
        "    cv2.rectangle(blank_image, (square1_x, square1_y), (square1_x + square1_size, square1_y + square1_size), square_color1, -1)\n",
        "    cv2.rectangle(blank_image, (square2_x, square2_y), (square2_x + square2_size, square2_y + square2_size), square_color2, -1)\n",
        "\n",
        "    # Create heatmaps for landmarks\n",
        "    heatmap1 = np.zeros((image_height, image_width), dtype=np.float32)\n",
        "    heatmap2 = np.zeros((image_height, image_width), dtype=np.float32)\n",
        "\n",
        "    # Compute the coordinates of the landmarks (center of the squares)\n",
        "    landmark1_x = square1_x + square1_size // 2\n",
        "    landmark1_y = square1_y + square1_size // 2\n",
        "\n",
        "    landmark2_x = square2_x + square2_size // 2\n",
        "    landmark2_y = square2_y + square2_size // 2\n",
        "\n",
        "    # Create Gaussian heatmaps for the landmarks\n",
        "    heatmap1 = cv2.circle(heatmap1, (landmark1_x, landmark1_y), landmark_radius, 1.0, -1)\n",
        "    heatmap2 = cv2.circle(heatmap2, (landmark2_x, landmark2_y), landmark_radius, 1.0, -1)\n",
        "\n",
        "    # Save the image\n",
        "    image_filename = os.path.join(output_dir, f\"image_with_landmarks_{i}.png\")\n",
        "    cv2.imwrite(image_filename, blank_image)\n",
        "\n",
        "    # Save the heatmap labels for the landmarks\n",
        "    heatmap1_filename = os.path.join(output_dir, f\"heatmap_landmark1_{i}.png\")\n",
        "    cv2.imwrite(heatmap1_filename, (heatmap1 * 255).astype(np.uint8))\n",
        "\n",
        "    heatmap2_filename = os.path.join(output_dir, f\"heatmap_landmark2_{i}.png\")\n",
        "    cv2.imwrite(heatmap2_filename, (heatmap2 * 255).astype(np.uint8))\n",
        "\n",
        "print(f\"{num_images} images with squares and heatmap labels for landmarks have been created and saved in the '{output_dir}' directory.\")\n"
      ],
      "metadata": {
        "colab": {
          "base_uri": "https://localhost:8080/"
        },
        "id": "FhiPy3Pm0kGf",
        "outputId": "1a337b6b-ffea-4541-c145-fec49c59f58d"
      },
      "execution_count": 1,
      "outputs": [
        {
          "output_type": "stream",
          "name": "stdout",
          "text": [
            "100 images with squares and heatmap labels for landmarks have been created and saved in the 'images_with_landmark_heatmaps' directory.\n"
          ]
        }
      ]
    },
    {
      "cell_type": "code",
      "source": [
        "import torch\n",
        "import torch.nn as nn\n",
        "\n",
        "# Define a high-resolution block (HRB)\n",
        "class HighResBlock(nn.Module):\n",
        "    def __init__(self, in_channels, out_channels):\n",
        "        super(HighResBlock, self).__init__()\n",
        "        self.conv1 = nn.Conv2d(in_channels, out_channels, kernel_size=3, padding=1)\n",
        "        self.conv2 = nn.Conv2d(out_channels, out_channels, kernel_size=3, padding=1)\n",
        "\n",
        "    def forward(self, x):\n",
        "        x1 = self.conv1(x)\n",
        "        x2 = self.conv2(x1)\n",
        "        return x + x2\n",
        "\n",
        "# Define the HRNet architecture\n",
        "class HRNet(nn.Module):\n",
        "\n",
        "    def __init__(self, num_classes):\n",
        "        super().__init__()\n",
        "\n",
        "        self.stem = nn.Sequential(\n",
        "            nn.Conv2d(3, 64, kernel_size=3, padding=1),\n",
        "            nn.ReLU(inplace=True)\n",
        "        )\n",
        "        self.stage1 = HighResBlock(64, 64)\n",
        "        self.stage2 = HighResBlock(64, 128)\n",
        "        self.stage3 = HighResBlock(128, 256)\n",
        "        self.stage4 = HighResBlock(256, 512)\n",
        "        self.avgpool = nn.AdaptiveAvgPool2d(1)\n",
        "        self.fc = nn.Linear(512, num_classes)\n",
        "\n",
        "    def forward(self, x):\n",
        "        x = self.stem(x)\n",
        "        x = self.stage1(x)\n",
        "        x = self.stage2(x)\n",
        "        x = self.stage3(x)\n",
        "        x = self.stage4(x)\n",
        "        x = self.avgpool(x)\n",
        "        x = x.view(x.size(0), -1)\n",
        "        x = self.fc(x)\n",
        "        return x\n",
        "\n",
        "# Define the loss function\n",
        "\n",
        "\n",
        "# Create the HRNet model\n",
        "model = HRNet(num_classes=2)  # Replace 10 with the number of classes in your dataset\n",
        "\n",
        "\n"
      ],
      "metadata": {
        "id": "kOcpq1z31JmC"
      },
      "execution_count": 16,
      "outputs": []
    },
    {
      "cell_type": "code",
      "source": [
        "import os\n",
        "import cv2\n",
        "import torch\n",
        "from torch.utils.data import Dataset, DataLoader\n",
        "from torchvision import transforms\n",
        "\n",
        "class LandmarkDataset(Dataset):\n",
        "    def __init__(self, data_dir):\n",
        "        self.data_dir = data_dir\n",
        "        self.image_paths = [os.path.join(data_dir, f) for f in os.listdir(data_dir) if f.endswith(\".png\")]\n",
        "        self.transform = transforms.Compose([transforms.ToTensor()])\n",
        "\n",
        "    def __len__(self):\n",
        "        return len(self.image_paths)\n",
        "\n",
        "    def __getitem__(self, idx):\n",
        "        image_path = self.image_paths[idx]\n",
        "        image = cv2.imread(image_path)\n",
        "        image = self.transform(image)\n",
        "        landmarks_path = image_path.replace(\".png\", \".txt\")\n",
        "        with open(landmarks_path, 'r') as f:\n",
        "            landmarks = [list(map(int, line.split(',')) for line in f)]\n",
        "        return image, torch.tensor(landmarks, dtype=torch.float32)\n",
        "\n",
        "data_dir = \"/content/images_with_landmarks\"\n",
        "dataset = LandmarkDataset(data_dir)\n",
        "dataloader = DataLoader(dataset, batch_size=32, shuffle=True)\n"
      ],
      "metadata": {
        "id": "Bcvhzqt93h7Y"
      },
      "execution_count": 19,
      "outputs": []
    },
    {
      "cell_type": "code",
      "source": [
        "dataset"
      ],
      "metadata": {
        "colab": {
          "base_uri": "https://localhost:8080/"
        },
        "id": "q1sGjXiq4IV-",
        "outputId": "745bae25-e204-4d01-90cc-0748e0693b7b"
      },
      "execution_count": 20,
      "outputs": [
        {
          "output_type": "execute_result",
          "data": {
            "text/plain": [
              "<__main__.LandmarkDataset at 0x7f5412e6efb0>"
            ]
          },
          "metadata": {},
          "execution_count": 20
        }
      ]
    },
    {
      "cell_type": "code",
      "source": [
        "import torch\n",
        "\n",
        "# Check if a GPU is available; if not, use the CPU\n",
        "device = torch.device(\"cuda:0\" if torch.cuda.is_available() else \"cpu\")\n",
        "\n",
        "# Instantiate your model (modify this based on your model class)\n",
        "\n",
        "\n",
        "# Move the model to the specified device\n",
        "model.to(device)\n"
      ],
      "metadata": {
        "id": "QpqPeXpU2oCq"
      },
      "execution_count": null,
      "outputs": []
    },
    {
      "cell_type": "code",
      "source": [
        "# Modify the HRNet architecture\n",
        "class HRNetLandmark(nn.Module):\n",
        "    def __init__(self, num_landmarks):\n",
        "        super(HRNetLandmark, self).__init()\n",
        "        # (Same as previous architecture)\n",
        "        # ...\n",
        "        self.num_landmarks = num_landmarks\n",
        "        self.landmark_head = nn.Sequential(\n",
        "            nn.Linear(512, num_landmarks * 2)  # 2 coordinates (x, y) per landmark\n",
        "        )\n",
        "\n",
        "    def forward(self, x):\n",
        "        # (Same as previous forward method)\n",
        "        # ...\n",
        "        x = self.avgpool(x)\n",
        "        x = x.view(x.size(0), -1)\n",
        "        landmarks = self.landmark_head(x)\n",
        "        return landmarks\n",
        "\n",
        "# Create the HRNet model for landmark detection\n",
        "num_landmarks = 2  # Adjust based on the number of landmarks in your dataset\n",
        "hrnet_landmark_model = HRNetLandmark(num_landmarks)\n"
      ],
      "metadata": {
        "id": "Iz8GV4ro4Zjz"
      },
      "execution_count": null,
      "outputs": []
    },
    {
      "cell_type": "code",
      "source": [
        "import os\n",
        "import cv2\n",
        "import numpy as np\n",
        "import random\n",
        "\n",
        "# Define parameters for the dataset\n",
        "output_dir = \"images_with_random_squares\"  # Directory to save the images\n",
        "num_images = 100  # Number of images to create\n",
        "image_width = 128  # Width of the images in pixels\n",
        "image_height = 128  # Height of the images in pixels\n",
        "background_color = (255, 255, 255)  # RGB color for the blank background (white)\n",
        "square_color1 = (0, 0, 255)  # RGB color for the first square (red)\n",
        "square_color2 = (0, 255, 0)  # RGB color for the second square (green)\n",
        "min_square_size = 10\n",
        "max_square_size = 30\n",
        "\n",
        "# Create the output directory if it doesn't exist\n",
        "os.makedirs(output_dir, exist_ok=True)\n",
        "\n",
        "# Generate and save images with two squares at random positions\n",
        "for i in range(num_images):\n",
        "    # Create a blank image filled with the specified background color\n",
        "    blank_image = np.full((image_height, image_width, 3), background_color, dtype=np.uint8)\n",
        "\n",
        "    # Generate random positions and sizes for the squares\n",
        "    square1_x = random.randint(0, image_width - max_square_size)\n",
        "    square1_y = random.randint(0, image_height - max_square_size)\n",
        "    square1_size = random.randint(min_square_size, max_square_size)\n",
        "\n",
        "    square2_x = random.randint(0, image_width - max_square_size)\n",
        "    square2_y = random.randint(0, image_height - max_square_size)\n",
        "    square2_size = random.randint(min_square_size, max_square_size)\n",
        "\n",
        "    # Draw the squares on the blank image\n",
        "    cv2.rectangle(blank_image, (square1_x, square1_y), (square1_x + square1_size, square1_y + square1_size), square_color1, -1)\n",
        "    cv2.rectangle(blank_image, (square2_x, square2_y), (square2_x + square2_size, square2_y + square2_size), square_color2, -1)\n",
        "\n",
        "    # Save the image to the output directory with a unique filename\n",
        "    image_filename = os.path.join(output_dir, f\"image_with_random_squares_{i}.png\")\n",
        "    cv2.imwrite(image_filename, blank_image)\n",
        "\n",
        "print(f\"{num_images} images with randomly positioned squares have been created and saved in the '{output_dir}' directory.\")\n"
      ],
      "metadata": {
        "colab": {
          "base_uri": "https://localhost:8080/"
        },
        "id": "1quSKn6De8Zn",
        "outputId": "9b7d6842-5a77-415f-9868-f321d2a9c9d6"
      },
      "execution_count": 5,
      "outputs": [
        {
          "output_type": "stream",
          "name": "stdout",
          "text": [
            "100 images with randomly positioned squares have been created and saved in the 'images_with_random_squares' directory.\n"
          ]
        }
      ]
    }
  ]
}